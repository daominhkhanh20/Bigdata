{
 "cells": [
  {
   "cell_type": "code",
   "execution_count": 1,
   "id": "b76ed75c",
   "metadata": {},
   "outputs": [],
   "source": [
    "from pyspark.sql import SparkSession\n",
    "from pyspark.sql.functions import col, concat_ws\n",
    "from pyspark.ml.feature import OneHotEncoder, Word2Vec, StringIndexer, Tokenizer"
   ]
  },
  {
   "cell_type": "code",
   "execution_count": 2,
   "id": "8a68e574",
   "metadata": {
    "scrolled": true
   },
   "outputs": [
    {
     "name": "stderr",
     "output_type": "stream",
     "text": [
      "WARNING: An illegal reflective access operation has occurred\n",
      "WARNING: Illegal reflective access by org.apache.spark.unsafe.Platform (file:/home/hadoop/anaconda3/lib/python3.9/site-packages/pyspark/jars/spark-unsafe_2.12-3.2.0.jar) to constructor java.nio.DirectByteBuffer(long,int)\n",
      "WARNING: Please consider reporting this to the maintainers of org.apache.spark.unsafe.Platform\n",
      "WARNING: Use --illegal-access=warn to enable warnings of further illegal reflective access operations\n",
      "WARNING: All illegal access operations will be denied in a future release\n",
      "Using Spark's default log4j profile: org/apache/spark/log4j-defaults.properties\n",
      "Setting default log level to \"WARN\".\n",
      "To adjust logging level use sc.setLogLevel(newLevel). For SparkR, use setLogLevel(newLevel).\n",
      "22/01/05 20:54:20 WARN NativeCodeLoader: Unable to load native-hadoop library for your platform... using builtin-java classes where applicable\n"
     ]
    }
   ],
   "source": [
    "spark = SparkSession \\\n",
    ".builder \\\n",
    ".master(\"spark://25.39.43.23:7077\") \\\n",
    ".appName(\"Naive Bayes\") \\\n",
    ".config(\"spark.executor.memory\", \"2g\") \\\n",
    ".getOrCreate()\n",
    "\n",
    "#\"spark.executor.memory\", \"4g\""
   ]
  },
  {
   "cell_type": "code",
   "execution_count": 3,
   "id": "b3e10c74",
   "metadata": {
    "scrolled": false
   },
   "outputs": [
    {
     "name": "stderr",
     "output_type": "stream",
     "text": [
      "                                                                                \r"
     ]
    }
   ],
   "source": [
    "df1 = spark.read.csv('hdfs://dmk:9000/SmallData/data1.csv', header=True, inferSchema=True).limit(1000)\n",
    "df2 = spark.read.csv('hdfs://dmk:9000/SmallData/data2.csv', header=True, inferSchema=True).limit(1000)\n",
    "df3 = spark.read.json('hdfs://dmk:9000/SmallData/data3.json').drop('_corrupt_record','element').withColumn('text', concat_ws(',', col('text'))).limit(1000)\n",
    "df4 = spark.read.json('hdfs://dmk:9000/SmallData/data4.json').drop('_corrupt_record','element').withColumn('text', concat_ws(',', col('text'))).limit(1000)"
   ]
  },
  {
   "cell_type": "code",
   "execution_count": 4,
   "id": "4c373a87",
   "metadata": {},
   "outputs": [],
   "source": [
    "bigdata = df1.union(df2)\n",
    "      #       .union(df3)\\\n",
    "       #      .union(df4)"
   ]
  },
  {
   "cell_type": "code",
   "execution_count": 5,
   "id": "933613b6",
   "metadata": {},
   "outputs": [
    {
     "name": "stdout",
     "output_type": "stream",
     "text": [
      "root\n",
      " |-- date: string (nullable = true)\n",
      " |-- label: string (nullable = true)\n",
      " |-- page_index: integer (nullable = true)\n",
      " |-- sub_label: string (nullable = true)\n",
      " |-- text: string (nullable = true)\n",
      " |-- url: string (nullable = true)\n",
      "\n"
     ]
    }
   ],
   "source": [
    "bigdata.printSchema()"
   ]
  },
  {
   "cell_type": "code",
   "execution_count": 6,
   "id": "e765db1a",
   "metadata": {},
   "outputs": [
    {
     "name": "stderr",
     "output_type": "stream",
     "text": [
      "                                                                                \r"
     ]
    },
    {
     "name": "stdout",
     "output_type": "stream",
     "text": [
      "+--------------------+-------+----------+---------+--------------------+--------------------+\n",
      "|                date|  label|page_index|sub_label|                text|                 url|\n",
      "+--------------------+-------+----------+---------+--------------------+--------------------+\n",
      "|13/12/2021 22:04:...|   null|      null|     null|                null|                null|\n",
      "|                   \"|Thời sự|         1|     null|\"Ngày 13/12, Thàn...|            Trong đó|\n",
      "|                null|   null|         1|     null|Sáng 13/12 theo g...|https://vietnamne...|\n",
      "|13/12/2021 21:57:...|   null|      null|     null|                null|                null|\n",
      "|                   \"|Thời sự|         1|     null|Ngày 13/12, UBND ...|https://vietnamne...|\n",
      "+--------------------+-------+----------+---------+--------------------+--------------------+\n",
      "only showing top 5 rows\n",
      "\n"
     ]
    }
   ],
   "source": [
    "bigdata.show(5)"
   ]
  },
  {
   "cell_type": "code",
   "execution_count": 7,
   "id": "d8dd80a6",
   "metadata": {},
   "outputs": [],
   "source": [
    "bigdata = bigdata.na.drop(subset='text')\\\n",
    "                 .na.drop(how='all',subset=['label', 'sub_label'])"
   ]
  },
  {
   "cell_type": "code",
   "execution_count": 8,
   "id": "6b753f33",
   "metadata": {},
   "outputs": [],
   "source": [
    "# thay thế các label Null bằng các sublabel\n",
    "bigdata = bigdata[['label','text']]"
   ]
  },
  {
   "cell_type": "code",
   "execution_count": 9,
   "id": "69b7b765",
   "metadata": {},
   "outputs": [
    {
     "name": "stderr",
     "output_type": "stream",
     "text": [
      "[Stage 12:===================================================>    (12 + 1) / 13]\r"
     ]
    },
    {
     "name": "stdout",
     "output_type": "stream",
     "text": [
      "+-------+--------------------+\n",
      "|  label|                text|\n",
      "+-------+--------------------+\n",
      "|Thời sự|\"Ngày 13/12, Thàn...|\n",
      "|Thời sự|Ngày 13/12, UBND ...|\n",
      "|Thời sự|\"Để phục vụ việc ...|\n",
      "|Thời sự|Ngày 22/7/2021, B...|\n",
      "|Thời sự|Sáng 13/12, đoàn ...|\n",
      "+-------+--------------------+\n",
      "only showing top 5 rows\n",
      "\n"
     ]
    },
    {
     "name": "stderr",
     "output_type": "stream",
     "text": [
      "\r",
      "                                                                                \r"
     ]
    }
   ],
   "source": [
    "bigdata.show(5)"
   ]
  },
  {
   "cell_type": "code",
   "execution_count": 10,
   "id": "c019d925",
   "metadata": {},
   "outputs": [],
   "source": [
    "from pyspark.ml import Pipeline\n",
    "label_indexer = StringIndexer(inputCol = \"label\", \\\n",
    "                             outputCol = \"label_index\")\n",
    "label_onehot = OneHotEncoder(inputCol = \"label_index\", \\\n",
    "                            outputCol = \"label_onehot\")\n",
    "\n",
    "tokenizer = Tokenizer(inputCol=\"text\", outputCol=\"words\")\n",
    "word2Vec = Word2Vec(vectorSize=100, minCount=5, \\\n",
    "                    inputCol=\"words\", outputCol=\"features\")\n"
   ]
  },
  {
   "cell_type": "code",
   "execution_count": 11,
   "id": "60f3d528",
   "metadata": {},
   "outputs": [
    {
     "name": "stderr",
     "output_type": "stream",
     "text": [
      "                                                                                \r"
     ]
    }
   ],
   "source": [
    "\n",
    "# Make a pipeline\n",
    "prepro_pipe  = Pipeline(stages = [label_indexer, label_onehot, tokenizer, word2Vec])\n",
    "pipe_data = prepro_pipe.fit(bigdata).transform(bigdata)"
   ]
  },
  {
   "cell_type": "code",
   "execution_count": 12,
   "id": "be6bd1ff",
   "metadata": {},
   "outputs": [
    {
     "name": "stderr",
     "output_type": "stream",
     "text": [
      "[Stage 40:>                                                         (0 + 1) / 1]\r"
     ]
    },
    {
     "name": "stdout",
     "output_type": "stream",
     "text": [
      "+----------+--------------------+-----------+-------------+--------------------+--------------------+\n",
      "|     label|                text|label_index| label_onehot|               words|            features|\n",
      "+----------+--------------------+-----------+-------------+--------------------+--------------------+\n",
      "|   Thời sự|Theo ghi nhận của...|        0.0|(5,[0],[1.0])|[theo, ghi, nhận,...|[-0.0514231019825...|\n",
      "|Kinh Doanh|\"Tổng số tài khoả...|        1.0|(5,[1],[1.0])|[\"tổng, số, tài, ...|[-0.0334185358596...|\n",
      "|Kinh Doanh|Theo thông báo từ...|        1.0|(5,[1],[1.0])|[theo, thông, báo...|[-0.0195764724171...|\n",
      "|Kinh Doanh|Đáng chú ý, xe ô ...|        1.0|(5,[1],[1.0])|[đáng, chú, ý,, x...|[0.00692616680584...|\n",
      "|Kinh Doanh|Lão mai này thuộc...|        1.0|(5,[1],[1.0])|[lão, mai, này, t...|[-0.0310545437322...|\n",
      "+----------+--------------------+-----------+-------------+--------------------+--------------------+\n",
      "only showing top 5 rows\n",
      "\n"
     ]
    },
    {
     "name": "stderr",
     "output_type": "stream",
     "text": [
      "\r",
      "                                                                                \r"
     ]
    }
   ],
   "source": [
    "pipe_data.show(5)"
   ]
  },
  {
   "cell_type": "code",
   "execution_count": 13,
   "id": "f8081264",
   "metadata": {},
   "outputs": [
    {
     "name": "stderr",
     "output_type": "stream",
     "text": [
      "[Stage 45:>                                                         (0 + 1) / 1]\r"
     ]
    },
    {
     "name": "stdout",
     "output_type": "stream",
     "text": [
      "+--------------------+-----+\n",
      "|            features|label|\n",
      "+--------------------+-----+\n",
      "|[-0.0923885219917...|  0.0|\n",
      "|[-0.0878206428897...|  0.0|\n",
      "|[-0.0833935225689...|  0.0|\n",
      "|[-0.0812306730021...|  0.0|\n",
      "|[-0.0808888802088...|  0.0|\n",
      "+--------------------+-----+\n",
      "only showing top 5 rows\n",
      "\n"
     ]
    },
    {
     "name": "stderr",
     "output_type": "stream",
     "text": [
      "\r",
      "                                                                                \r"
     ]
    }
   ],
   "source": [
    "data_onehot = pipe_data[['features','label_index']].withColumnRenamed('label_index','label')\n",
    "train, test = data_onehot.randomSplit([0.8, 0.2])\n",
    "train.show(5)"
   ]
  },
  {
   "cell_type": "code",
   "execution_count": 14,
   "id": "24d13bf4",
   "metadata": {
    "scrolled": false
   },
   "outputs": [
    {
     "name": "stderr",
     "output_type": "stream",
     "text": [
      "22/01/05 20:57:59 WARN InstanceBuilder$NativeBLAS: Failed to load implementation from:dev.ludovic.netlib.blas.JNIBLAS\n",
      "22/01/05 20:57:59 WARN InstanceBuilder$NativeBLAS: Failed to load implementation from:dev.ludovic.netlib.blas.ForeignLinkerBLAS\n",
      "22/01/05 20:58:00 WARN BLAS: Failed to load implementation from: com.github.fommil.netlib.NativeSystemBLAS\n",
      "22/01/05 20:58:00 WARN BLAS: Failed to load implementation from: com.github.fommil.netlib.NativeRefBLAS\n",
      "[Stage 368:==================================================>    (12 + 1) / 13]\r"
     ]
    },
    {
     "name": "stdout",
     "output_type": "stream",
     "text": [
      "Coefficients: \n",
      "DenseMatrix([[ 1.78901354e+02,  1.20748925e+02, -1.36058730e+02,\n",
      "               1.23998258e+02, -1.34521103e+02,  1.80567054e+02,\n",
      "              -2.15184164e+01,  3.44655284e+02, -1.55797262e+02,\n",
      "               7.53588764e+01, -4.71148475e+01, -2.53779699e+02,\n",
      "               4.28178797e+01, -4.96036227e+00, -9.86397299e+01,\n",
      "              -1.06661303e+02, -8.44022998e+01,  1.11859368e+02,\n",
      "               8.26253085e+01,  4.05395231e+01,  3.79189564e+00,\n",
      "              -1.58585731e+02,  1.21874493e+02,  1.21300010e+02,\n",
      "              -6.40746956e+01, -1.09400587e+02, -4.22086109e+01,\n",
      "              -1.20779471e+01,  4.75574501e+01,  1.31329049e+02,\n",
      "              -2.17379532e+01,  4.67841775e+01,  7.86857558e+01,\n",
      "              -4.73715223e+01, -1.47774802e+02, -7.59491676e+01,\n",
      "              -1.24572483e+01, -2.41439486e+00, -1.48431743e+02,\n",
      "               2.34439397e+01,  8.70227901e+01, -5.91554864e+01,\n",
      "               2.04279324e+02,  1.75993457e+02,  2.04068179e+02,\n",
      "              -2.25527129e+02,  4.44263931e+01, -1.52010401e+02,\n",
      "               8.19744634e+01,  2.93968636e+01,  1.34337776e+02,\n",
      "               4.00144555e+01,  2.36269919e+02, -2.48338523e+02,\n",
      "              -1.60730377e+01, -9.54967833e+01, -1.46569925e+02,\n",
      "              -7.06372910e+01, -1.49624777e+02, -3.95274904e+01,\n",
      "              -9.80492964e+01, -8.48251740e+00, -2.36309911e+02,\n",
      "              -5.73478963e+01,  9.79158013e+01, -3.42268814e+01,\n",
      "               1.01722794e+01,  9.35192605e+01,  1.21566130e+02,\n",
      "               1.76490165e+02,  5.59126607e+01, -1.26346973e+02,\n",
      "               1.39404235e+01,  1.00835085e+02,  6.86305169e+01,\n",
      "               8.85843652e+01,  6.53826770e+01, -7.37396974e+01,\n",
      "              -9.49415540e+01, -2.45447153e+02,  1.54380817e+02,\n",
      "              -7.44109338e+01, -6.05419451e+01,  6.85072297e+01,\n",
      "               1.39191681e+00, -4.64519299e+01, -3.37616042e+01,\n",
      "               3.03762413e+01,  2.53484318e+01,  5.61283455e+01,\n",
      "              -1.06083682e+02,  1.72426525e+02,  4.00530881e+01,\n",
      "              -3.39573695e+01,  4.76113239e+01, -2.07791278e+01,\n",
      "               8.81424495e+01, -9.64839740e+00, -1.73595930e+01,\n",
      "               1.09555508e+02],\n",
      "             [-2.20131440e+02, -2.36960833e+02,  1.06918354e+02,\n",
      "               1.11598286e+02, -4.24270031e+01,  1.32735216e+02,\n",
      "               8.81857120e+01,  1.87576553e+02,  2.29632221e+02,\n",
      "               6.91127043e+01,  2.32536065e+02, -1.41969337e+01,\n",
      "              -8.29205159e+01, -7.63110830e+01,  1.09688597e+02,\n",
      "               9.16940412e+00,  1.77332517e+02,  1.11078226e+02,\n",
      "               1.81516970e+02,  1.25481790e+02,  8.08202391e+01,\n",
      "              -2.28554242e+02, -1.02262022e+02, -6.53763584e+01,\n",
      "              -5.96566556e+01, -1.69428271e+02, -2.45848981e+02,\n",
      "              -9.45795822e+01,  2.29705517e+02,  2.80439230e+02,\n",
      "              -8.34219747e+01, -2.62804592e+01, -8.18389050e+01,\n",
      "               3.75576450e+01, -1.26649067e+02,  1.97235719e+02,\n",
      "               4.76647952e+01, -1.18121319e+01,  7.93919310e+01,\n",
      "              -1.06718674e+02, -9.18620140e+00,  8.29234789e+01,\n",
      "               3.26342765e+02, -1.30422182e+02,  7.43047975e+01,\n",
      "               2.01137006e+01,  2.26697849e+02,  3.76277973e+01,\n",
      "              -2.39019631e+02, -2.49404121e+02, -1.56455126e+02,\n",
      "               2.84423296e+02,  6.68434624e+01,  1.47843845e+02,\n",
      "               1.14812635e+02,  2.34113545e+02, -1.81500969e+02,\n",
      "               1.06026850e+01, -1.07348379e+02, -1.54590315e+02,\n",
      "               6.59674103e+01,  1.47559672e+02, -7.55782426e+01,\n",
      "               3.08624268e+01,  1.86537246e+00,  3.50344349e+01,\n",
      "              -1.63326075e+01, -1.27450685e+02,  9.64690694e+00,\n",
      "               5.78488568e+01,  1.94086173e+02,  2.15140223e+00,\n",
      "               7.32774988e+01, -2.43898289e+01, -4.22371319e+01,\n",
      "               4.36284425e+01, -3.29100342e+02,  5.43990819e+01,\n",
      "              -1.02073887e+02,  1.36539652e+01, -8.39865353e+01,\n",
      "              -1.89938619e+02, -7.38791250e+01, -1.67419470e+02,\n",
      "              -1.11617379e+02, -5.47561582e+01,  2.52871116e+01,\n",
      "              -1.33649404e+02, -4.73603981e+01, -1.91777793e+00,\n",
      "              -1.21392595e+02, -1.35534595e+02,  2.98148022e+01,\n",
      "               1.21889654e+02, -4.41389837e+01, -1.37523241e+02,\n",
      "              -1.10747188e+02, -9.99651259e+01, -1.22389905e+02,\n",
      "               1.96653894e+02],\n",
      "             [ 1.90245050e+02,  4.00376660e+01,  3.84863067e+01,\n",
      "              -3.50498004e+01,  2.05600396e+02,  7.38298124e+01,\n",
      "               1.68882291e+02, -2.25675888e+02, -5.86018063e+01,\n",
      "              -2.95890188e+02,  7.02745773e+00, -3.57367461e+01,\n",
      "               8.26693844e+01, -2.13941999e+01, -1.52315321e+01,\n",
      "              -1.52073540e+02,  2.47037235e+01, -3.51057449e+00,\n",
      "              -2.72859615e+02,  2.08960129e+01,  1.31317947e+01,\n",
      "               2.34847590e+02,  5.37507866e-01, -2.55908493e+01,\n",
      "               5.46490321e+01,  5.96960472e+01,  2.11368284e+02,\n",
      "               1.00141711e+02, -2.07425321e+02,  4.25225686e+01,\n",
      "               8.76307931e+01, -1.06739013e+01, -5.15153010e+01,\n",
      "              -9.76442586e+01,  2.61446693e+02, -2.01987916e+02,\n",
      "              -1.86675659e+01,  1.00310810e+02, -1.64039316e+01,\n",
      "              -1.41397196e+02,  7.85941663e+01,  5.30960253e+01,\n",
      "              -2.94373161e+02, -2.75550608e+01,  2.09506007e+01,\n",
      "              -1.01233977e+02,  2.90936418e+00, -1.55797189e+02,\n",
      "              -1.07548787e+00,  1.69467416e+02,  1.12941765e+02,\n",
      "              -1.76333873e+02, -2.16664144e+02, -1.32856534e+02,\n",
      "               8.05614754e+01,  1.00902763e+02, -4.04694759e+01,\n",
      "              -1.11147007e+02,  3.76627341e+01,  1.13078863e+02,\n",
      "               3.41954944e+01, -9.71748200e+01,  1.76646881e+02,\n",
      "               1.36452524e+02,  5.81416699e+01,  2.91645285e+02,\n",
      "               4.70756924e+01,  1.29681409e+01,  4.78868403e+01,\n",
      "              -5.98533406e+01, -2.87024510e+02, -8.19017891e+00,\n",
      "              -6.87812028e+01,  6.39503271e+00,  3.66862286e+01,\n",
      "              -2.93690687e+01,  9.95002360e+01, -4.56992196e+01,\n",
      "               9.01027723e+01,  3.26835584e+02, -3.55835575e+00,\n",
      "               1.52162717e+01,  7.25277158e+00, -1.79346918e+02,\n",
      "               4.33192281e+01, -1.63568609e+02,  3.71788279e+01,\n",
      "              -1.71679382e+02, -2.05212564e+01, -4.40367030e+01,\n",
      "               1.65338650e+02,  3.03685122e+01, -1.45892572e+02,\n",
      "               1.32154989e+02,  1.27129890e+02, -1.54469308e+02,\n",
      "               1.39980724e+02, -4.50105814e+01, -2.64135648e+02,\n",
      "              -1.46535552e+02],\n",
      "             [ 1.05426249e+01,  2.89159509e+02, -9.10008578e+00,\n",
      "              -1.21460299e+02,  2.87071948e+01,  4.90609527e+01,\n",
      "              -2.09187117e+02, -1.11082046e+02,  1.40239488e+02,\n",
      "               6.61504953e+01, -1.56745667e+02,  3.27057773e+02,\n",
      "              -3.78934233e+01, -1.20312954e+01,  1.46723719e+02,\n",
      "               2.27465103e+02, -2.08149226e+02, -6.66769075e+00,\n",
      "               5.16410607e+01,  6.68229218e+01,  2.46585472e+01,\n",
      "               1.17757258e+02,  7.24272392e+01, -1.08099639e+02,\n",
      "              -8.23820661e+01,  3.63405644e+02,  1.17786865e+02,\n",
      "               6.03416004e+01, -1.27480166e+02, -1.09794070e+02,\n",
      "              -2.02318828e+02, -8.49814749e+01, -9.60185191e+01,\n",
      "              -1.78754703e+01, -3.66133833e+01, -8.11817492e+01,\n",
      "              -8.07285440e+01, -7.25856655e+01, -7.39167293e+01,\n",
      "               2.07389611e+02, -1.75002473e+02, -4.93083819e+01,\n",
      "              -2.14322280e+02,  1.05333264e+02, -2.11117283e+01,\n",
      "               1.99468542e+01, -3.03005866e+02, -4.32940801e+01,\n",
      "               1.52497796e+02, -3.90972500e+01,  7.02693389e+01,\n",
      "               6.92129207e+01, -3.58041848e+02,  2.44311673e+02,\n",
      "               7.45246926e+01, -2.22231859e+02,  1.09033730e+02,\n",
      "               7.15704637e+01,  1.33795253e+02,  2.02503052e+01,\n",
      "               3.33370698e+01, -6.08325717e+00,  5.82981323e+00,\n",
      "              -2.79435440e+01,  5.49472302e+00,  3.82372518e+01,\n",
      "               4.17902002e+01, -1.15356820e+01, -2.48980794e+02,\n",
      "              -3.22351532e+02, -1.06425827e+01,  7.28846074e+01,\n",
      "              -2.60120283e+01,  1.54400534e+02, -3.11213785e+01,\n",
      "              -7.93104626e+01,  7.93371869e+01,  4.01773085e+01,\n",
      "               3.90318334e+01, -1.94389657e+01, -1.91978829e+01,\n",
      "               1.73683457e+02,  1.51178085e+02,  1.54467847e+02,\n",
      "               8.65112134e+01,  1.42796665e+02,  3.43323748e+00,\n",
      "              -2.31278609e+01,  7.16617173e+01,  6.35955074e+01,\n",
      "               1.63219831e+02,  1.12451756e+02, -5.08311512e+01,\n",
      "              -9.88611863e+01, -2.04751093e+02,  4.08884723e+01,\n",
      "              -4.15157450e+01,  1.09043263e+02,  2.57668595e+02,\n",
      "               7.74495518e+01],\n",
      "             [-1.12737491e+02, -1.95469337e+02, -3.85051295e+01,\n",
      "              -5.02127988e+01, -4.76535557e+01, -4.41410224e+02,\n",
      "               4.94125055e+00, -1.70129762e+02, -1.22340592e+02,\n",
      "               7.51124712e+01, -6.26325212e+01, -1.93186570e+01,\n",
      "              -1.30088883e+01,  4.34899621e+01, -1.33997662e+02,\n",
      "               2.78221415e+01,  3.80718262e+01, -1.69015604e+02,\n",
      "              -3.72754075e+01, -2.49838028e+02, -1.11999703e+02,\n",
      "               1.33859190e+01, -9.91178841e+01,  5.80027363e+01,\n",
      "               7.91490388e+01, -1.00911888e+02, -3.84832411e+01,\n",
      "              -5.70704443e+01,  1.23982441e+01, -3.52722599e+02,\n",
      "               2.11278704e+02,  7.98260048e+01,  1.82968292e+02,\n",
      "               1.26858992e+02,  1.11934502e+01,  1.69388834e+02,\n",
      "               5.16620534e+01, -1.97492148e+01,  2.07190026e+02,\n",
      "               5.36345306e+01,  2.45092096e+01, -2.41671478e+01,\n",
      "               2.37821333e+00, -9.96815388e+01, -2.82265793e+02,\n",
      "               2.85352099e+02, -1.43578456e+00,  2.86778145e+02,\n",
      "              -2.20895347e+01,  7.84493224e+01, -1.61095404e+02,\n",
      "              -2.65936331e+02,  2.44845224e+02, -2.76587481e+01,\n",
      "              -1.56774815e+02,  5.22212743e+01,  2.43023192e+02,\n",
      "               6.59836421e+01,  1.08408055e+02,  2.58246820e+01,\n",
      "              -3.72396644e+01, -3.68451329e+00,  1.45972214e+02,\n",
      "              -3.39801096e+01, -1.84331533e+02, -3.05936101e+02,\n",
      "              -9.00407374e+01,  3.89952215e+01,  1.07896277e+02,\n",
      "               9.62486167e+01,  3.98941361e+01,  4.09183995e+01,\n",
      "               1.45656442e+01, -2.91927571e+02, -4.65789222e+01,\n",
      "              -2.23166129e+01,  5.97915467e+01,  4.24486299e+01,\n",
      "               8.57453712e+01, -1.02770336e+02, -4.59621834e+01,\n",
      "               9.15382005e+01, -2.51675534e+01,  9.05107610e+01,\n",
      "              -1.89722916e+01,  1.52733345e+02,  2.40261472e+01,\n",
      "               2.68619582e+02, -3.00590956e+01, -5.53620508e+01,\n",
      "              -6.17582239e+01, -1.36370678e+02,  1.42948854e+02,\n",
      "              -1.19534801e+02,  4.83321588e+01,  2.81614046e+02,\n",
      "              -4.85451649e+01,  1.16438831e+01,  1.71113738e+02,\n",
      "              -2.22882515e+02],\n",
      "             [-4.68200981e+01, -1.75159298e+01,  3.82592845e+01,\n",
      "              -2.88736455e+01, -9.70592897e+00,  5.21718866e+00,\n",
      "              -3.13037208e+01, -2.53441405e+01, -3.31320478e+01,\n",
      "               1.01556408e+01,  2.69295126e+01, -4.02573794e+00,\n",
      "               8.33556350e+00,  7.12069785e+01, -8.54339287e+00,\n",
      "              -5.72180598e+00,  5.24434583e+01, -4.37437252e+01,\n",
      "              -5.64831699e+00, -3.90221991e+00, -1.04027736e+01,\n",
      "               2.11492057e+01,  6.54066571e+00,  1.97641005e+01,\n",
      "               7.23153463e+01, -4.33609458e+01, -2.61431590e+00,\n",
      "               3.24466235e+00,  4.52442753e+01,  8.22582071e+00,\n",
      "               8.56925820e+00, -4.67434700e+00, -3.22813229e+01,\n",
      "              -1.52538615e+00,  3.83971084e+01, -7.50572051e+00,\n",
      "               1.25265096e+01,  6.25059653e+00, -4.78295530e+01,\n",
      "              -3.63522108e+01, -5.93749201e+00, -3.38848809e+00,\n",
      "              -2.43048626e+01, -2.36679400e+01,  4.05394450e+00,\n",
      "               1.34845203e+00,  3.04080439e+01,  2.66957284e+01,\n",
      "               2.77123944e+01,  1.11877692e+01,  1.65024451e-03,\n",
      "               4.86195322e+01,  2.67473872e+01,  1.66982864e+01,\n",
      "              -9.70509505e+01, -6.95089402e+01,  1.64834477e+01,\n",
      "               3.36275071e+01, -2.28928867e+01,  3.49639553e+01,\n",
      "               1.78898634e+00, -3.21345637e+01, -1.65607555e+01,\n",
      "              -4.80434009e+01,  2.09139664e+01, -2.47539890e+01,\n",
      "               7.33517294e+00, -6.49625563e+00, -3.80153602e+01,\n",
      "               5.16172340e+01,  7.77412233e+00,  1.85827429e+01,\n",
      "              -6.99033541e+00,  5.46867481e+01,  1.46206871e+01,\n",
      "              -1.21666348e+00,  2.50886957e+01, -1.75861033e+01,\n",
      "              -1.78645364e+01,  2.71669054e+01, -1.67585980e+00,\n",
      "              -1.60883768e+01,  1.15776715e+00,  3.32805501e+01,\n",
      "              -6.32687394e-01, -3.07533130e+01, -5.61637199e+01,\n",
      "               2.94608240e+01,  9.30601037e-01, -1.84073212e+01,\n",
      "              -3.93239805e+01, -4.33415196e+01, -1.60930217e+01,\n",
      "              -1.69128674e+00,  2.58167044e+01, -9.73084164e+00,\n",
      "              -2.73150752e+01,  3.39369585e+01, -2.48971873e+01,\n",
      "              -1.42408871e+01]])\n",
      "Intercept: [0.4012095297457569,5.178975760768782,9.558715527930977,7.368648079193657,-14.91872907872546,-7.58881981891371]\n",
      "objectiveHistory:\n",
      "1.5748965315504402\n",
      "1.0836710524745776\n",
      "0.877594960771297\n",
      "0.7324047623588515\n",
      "0.6744588555260758\n",
      "0.6128531261254411\n",
      "0.5621240430836859\n",
      "0.5310938420780306\n",
      "0.5113456236622407\n",
      "0.47644423110142986\n",
      "0.4552194786056431\n",
      "0.4349003361530801\n",
      "0.42358494295680954\n",
      "0.40798294511216493\n",
      "0.39202378511025787\n",
      "0.38393797662061924\n",
      "0.36977009474813066\n",
      "0.36178981081100364\n",
      "0.35406285554169115\n",
      "0.34772969383266245\n",
      "0.34346734274553375\n",
      "0.3376924109234791\n",
      "0.33301499614333135\n",
      "0.326946160630979\n",
      "0.32136324369162955\n",
      "0.31534434991270976\n",
      "0.30924598693994115\n",
      "0.3042125902627609\n",
      "0.300106486686159\n",
      "0.29551976912150535\n",
      "0.29221784266691764\n",
      "0.28795548431266194\n",
      "0.28513717671500416\n",
      "0.28139174862935284\n",
      "0.27737445699046476\n",
      "0.27321411919453825\n",
      "0.27078099908209274\n",
      "0.26753465485711253\n",
      "0.2638254605075042\n",
      "0.26035438298487623\n",
      "0.25697382909173466\n",
      "0.25545301774735535\n",
      "0.2530662498947851\n",
      "0.25064129901843646\n",
      "0.24832317204451745\n",
      "0.24499414223961535\n",
      "0.24429211573721948\n",
      "0.24028825227354347\n",
      "0.239210212382134\n",
      "0.23708753123670484\n",
      "0.23380843922949796\n",
      "0.2321206634606481\n",
      "0.22960010016656424\n",
      "0.22789934197992262\n",
      "0.2260842629593304\n",
      "0.22413550213852373\n",
      "0.22146283904640188\n",
      "0.2192910470540108\n",
      "0.2180678048119052\n",
      "0.21492405825952474\n",
      "0.21325686457395246\n",
      "0.21121535569123892\n",
      "0.21013761158372535\n",
      "0.20792511249260517\n",
      "0.20725824189365166\n",
      "0.20599876988994392\n",
      "0.20462760462139842\n",
      "0.2033092246079829\n",
      "0.20100940351486887\n",
      "0.20000287705960423\n",
      "0.1981673775559388\n",
      "0.19730043361927446\n",
      "0.19605548698528338\n",
      "0.1936576588500374\n",
      "0.19280657384090202\n",
      "0.19104565970425005\n",
      "0.19013305634134112\n",
      "0.18888837234082698\n",
      "0.18777538364830038\n",
      "0.18656172507467564\n",
      "0.1855305271942435\n",
      "0.18445756526479698\n",
      "0.1834718001013674\n",
      "0.18235319178414647\n",
      "0.18160824431716302\n",
      "0.18061863616616028\n",
      "0.17917533662976626\n",
      "0.17849348668217968\n",
      "0.17735420870265217\n",
      "0.17621107442281678\n",
      "0.17481328212552438\n",
      "0.17374858416635736\n",
      "0.17280205173460564\n",
      "0.17166238881738324\n",
      "0.170817328044511\n",
      "0.16999397005152495\n",
      "0.16874056503841464\n",
      "0.1674528968989746\n",
      "0.16660435981176192\n",
      "0.16511320504402044\n",
      "0.16463383972656523\n",
      "False positive rate by label:\n"
     ]
    },
    {
     "name": "stderr",
     "output_type": "stream",
     "text": [
      "[Stage 372:============================>                            (1 + 1) / 2]\r"
     ]
    },
    {
     "name": "stdout",
     "output_type": "stream",
     "text": [
      "label 0: 0.020036429872495445\n",
      "label 1: 0.0176\n",
      "label 2: 0.011182108626198083\n",
      "label 3: 0.015105740181268883\n",
      "label 4: 0.0\n",
      "label 5: 0.0\n",
      "True positive rate by label:\n",
      "label 0: 0.9705882352941176\n",
      "label 1: 0.9012345679012346\n",
      "label 2: 0.9565217391304348\n",
      "label 3: 0.936\n",
      "label 4: 0.99\n",
      "label 5: 1.0\n",
      "Precision by label:\n",
      "label 0: 0.9545454545454546\n",
      "label 1: 0.9299363057324841\n",
      "label 2: 0.9565217391304348\n",
      "label 3: 0.9212598425196851\n",
      "label 4: 1.0\n",
      "label 5: 1.0\n",
      "Recall by label:\n",
      "label 0: 0.9705882352941176\n",
      "label 1: 0.9012345679012346\n",
      "label 2: 0.9565217391304348\n",
      "label 3: 0.936\n",
      "label 4: 0.99\n",
      "label 5: 1.0\n",
      "F-measure by label:\n",
      "label 0: 0.9625\n",
      "label 1: 0.9153605015673981\n",
      "label 2: 0.9565217391304348\n",
      "label 3: 0.9285714285714286\n",
      "label 4: 0.9949748743718593\n",
      "label 5: 1.0\n",
      "Accuracy: 0.9504447268106735\n",
      "FPR: 0.014369005490635856\n",
      "TPR: 0.9504447268106733\n",
      "F-measure: 0.9503587258736124\n",
      "Precision: 0.9504307243017042\n",
      "Recall: 0.9504447268106733\n"
     ]
    },
    {
     "name": "stderr",
     "output_type": "stream",
     "text": [
      "\r",
      "                                                                                \r"
     ]
    }
   ],
   "source": [
    "from pyspark.ml.classification import NaiveBayes, LogisticRegression\n",
    "from pyspark.ml.evaluation import MulticlassClassificationEvaluator\n",
    "# lr = LogisticRegression((maxIter=10, regParam=0.3, elasticNetParam=0.8))\n",
    "lr = LogisticRegression()\n",
    "\n",
    "# Fit the model\n",
    "lrModel = lr.fit(train)\n",
    "\n",
    "# Print the coefficients and intercept for multinomial logistic regression\n",
    "print(\"Coefficients: \\n\" + str(lrModel.coefficientMatrix))\n",
    "print(\"Intercept: \" + str(lrModel.interceptVector))\n",
    "\n",
    "trainingSummary = lrModel.summary\n",
    "\n",
    "# Obtain the objective per iteration\n",
    "objectiveHistory = trainingSummary.objectiveHistory\n",
    "print(\"objectiveHistory:\")\n",
    "for objective in objectiveHistory:\n",
    "    print(objective)\n",
    "\n",
    "# for multiclass, we can inspect metrics on a per-label basis\n",
    "print(\"False positive rate by label:\")\n",
    "for i, rate in enumerate(trainingSummary.falsePositiveRateByLabel):\n",
    "    print(\"label %d: %s\" % (i, rate))\n",
    "\n",
    "print(\"True positive rate by label:\")\n",
    "for i, rate in enumerate(trainingSummary.truePositiveRateByLabel):\n",
    "    print(\"label %d: %s\" % (i, rate))\n",
    "\n",
    "print(\"Precision by label:\")\n",
    "for i, prec in enumerate(trainingSummary.precisionByLabel):\n",
    "    print(\"label %d: %s\" % (i, prec))\n",
    "\n",
    "print(\"Recall by label:\")\n",
    "for i, rec in enumerate(trainingSummary.recallByLabel):\n",
    "    print(\"label %d: %s\" % (i, rec))\n",
    "\n",
    "print(\"F-measure by label:\")\n",
    "for i, f in enumerate(trainingSummary.fMeasureByLabel()):\n",
    "    print(\"label %d: %s\" % (i, f))\n",
    "\n",
    "accuracy = trainingSummary.accuracy\n",
    "falsePositiveRate = trainingSummary.weightedFalsePositiveRate\n",
    "truePositiveRate = trainingSummary.weightedTruePositiveRate\n",
    "fMeasure = trainingSummary.weightedFMeasure()\n",
    "precision = trainingSummary.weightedPrecision\n",
    "recall = trainingSummary.weightedRecall\n",
    "print(\"Accuracy: %s\\nFPR: %s\\nTPR: %s\\nF-measure: %s\\nPrecision: %s\\nRecall: %s\" \\\n",
    "      % (accuracy, falsePositiveRate, truePositiveRate, fMeasure, precision, recall))"
   ]
  },
  {
   "cell_type": "code",
   "execution_count": 16,
   "id": "8162728a",
   "metadata": {},
   "outputs": [],
   "source": [
    "import itertools\n",
    "import numpy as np\n",
    "import matplotlib.pyplot as plt\n",
    "\n",
    "\n",
    "def confusion_matrix(y_test, y_pred):\n",
    "    if len(y_test.shape) != 2:\n",
    "        raise IOError('y_test must be a 2D array (Matrix)')\n",
    "    elif len(y_pred.shape) != 2:\n",
    "        raise IOError('y_pred must be a 2D array (Matrix)')\n",
    "\n",
    "    confusion_matrix = np.zeros((y_test.shape[1], y_test.shape[1]))\n",
    "    for i in range(y_test.shape[0]):\n",
    "      indices = np.where(y_test[i] == 1)\n",
    "      pred_indices = np.where(y_pred[i] == 1)\n",
    "      for j in pred_indices[0]:\n",
    "        if j not in indices[0]:\n",
    "          for n in indices:\n",
    "            confusion_matrix[n, j] += 1\n",
    "        else:\n",
    "          confusion_matrix[j, j] += 1\n",
    "    #   for obs in range(0, len(y_pred[:, 0])):\n",
    "    #       j = y_pred[obs, :].argmax()\n",
    "    #       i = y_test[obs, :].argmax()\n",
    "    #       cm[i, j] += 1\n",
    "\n",
    "    # accuracy = 0.0\n",
    "    # for i in range(0, cm.shape[1]):\n",
    "    #     accuracy += cm[i, i]\n",
    "    # accuracy /= len(y_test.argmax(axis=1))\n",
    "\n",
    "    return confusion_matrix\n",
    "\n",
    "# def confusion_matrix(y_test, y_pred):\n",
    "#     if len(y_test.shape) != 2:\n",
    "#         raise IOError('y_test must be a 2D array (Matrix)')\n",
    "#     elif len(y_pred.shape) != 2:\n",
    "#         raise IOError('y_pred must be a 2D array (Matrix)')\n",
    "\n",
    "#     cm = np.zeros((y_test.shape[1], y_test.shape[1]))\n",
    "\n",
    "#     for obs in range(0, len(y_pred[:, 0])):\n",
    "#       # j = y_pred[obs, :].argmax()\n",
    "#         # i = y_test[obs, :].argmax()\n",
    "#         j = np.flatnonzero(y_pred[obs, :] == np.max(y_pred[obs, :]))\n",
    "#         i = np.flatnonzero(y_test[obs, :] == np.max(y_test[obs, :]))\n",
    "#         cm[i, j] += 1\n",
    "\n",
    "#     return cm\n",
    "\n",
    "def plot_confusion_matrix(cm, classes, normalize=False, title='Confusion Matrix', cmap=plt.cm.Reds):\n",
    "    plt.ion()\n",
    "    if normalize:\n",
    "        cm = cm.astype('float') / cm.sum(axis=1)[:, np.newaxis]\n",
    "        if np.isnan(cm).any():\n",
    "            np.nan_to_num(cm, copy=False)\n",
    "\n",
    "    plt.imshow(cm, interpolation='nearest', cmap=cmap)\n",
    "    plt.title(title)\n",
    "    plt.colorbar()\n",
    "    tick_marks = np.arange(len(classes))\n",
    "    plt.xticks(tick_marks, classes, rotation=45)\n",
    "    plt.yticks(tick_marks, classes)\n",
    "\n",
    "    fmt = '.2f' if normalize else '.0f'\n",
    "    thresh = cm.max() / 2.\n",
    "    for i, j in itertools.product(range(cm.shape[0]), range(cm.shape[1])):\n",
    "        plt.text(j, i, format(cm[i, j], fmt),\n",
    "                 horizontalalignment='center',\n",
    "                 color='white' if cm[i, j] > thresh else 'black')\n",
    "\n",
    "    plt.tight_layout()\n",
    "    plt.ylabel('True label')\n",
    "    plt.xlabel('Predicted label')\n",
    "    plt.ioff()\n",
    "\n",
    "\n",
    "def draw_cm(y_test, y_pred, classes, normalize=False):\n",
    "    cm = confusion_matrix(y_test, y_pred)\n",
    "    plot_confusion_matrix(cm, classes, normalize)\n",
    "\n",
    "    return cm"
   ]
  },
  {
   "cell_type": "code",
   "execution_count": 40,
   "id": "79b346d4",
   "metadata": {},
   "outputs": [],
   "source": [
    "y_pred = lrModel.transform(test.select('features'))\n"
   ]
  },
  {
   "cell_type": "code",
   "execution_count": 41,
   "id": "695823e5",
   "metadata": {},
   "outputs": [],
   "source": [
    "y_true = test.select('label')"
   ]
  },
  {
   "cell_type": "code",
   "execution_count": 24,
   "id": "5fca737e",
   "metadata": {},
   "outputs": [
    {
     "name": "stderr",
     "output_type": "stream",
     "text": [
      "[Stage 384:==================================================>    (12 + 1) / 13]\r"
     ]
    },
    {
     "name": "stdout",
     "output_type": "stream",
     "text": [
      "+--------------------+--------------------+--------------------+----------+\n",
      "|            features|       rawPrediction|         probability|prediction|\n",
      "+--------------------+--------------------+--------------------+----------+\n",
      "|[-0.0820343963013...|[60.1408126335234...|[0.99999207709016...|       0.0|\n",
      "|[-0.0756968745455...|[20.6703186298818...|[0.99999966170768...|       0.0|\n",
      "|[-0.0720566094746...|[42.1852757135324...|[0.99999999999999...|       0.0|\n",
      "+--------------------+--------------------+--------------------+----------+\n",
      "only showing top 3 rows\n",
      "\n"
     ]
    },
    {
     "name": "stderr",
     "output_type": "stream",
     "text": [
      "\r",
      "                                                                                \r"
     ]
    }
   ],
   "source": [
    "y_pred.show(3)"
   ]
  },
  {
   "cell_type": "code",
   "execution_count": 27,
   "id": "6ba29e5a",
   "metadata": {},
   "outputs": [
    {
     "name": "stderr",
     "output_type": "stream",
     "text": [
      "[Stage 400:==================================================>    (12 + 1) / 13]\r"
     ]
    },
    {
     "name": "stdout",
     "output_type": "stream",
     "text": [
      "+-----+\n",
      "|label|\n",
      "+-----+\n",
      "|  0.0|\n",
      "|  0.0|\n",
      "|  0.0|\n",
      "+-----+\n",
      "only showing top 3 rows\n",
      "\n"
     ]
    },
    {
     "name": "stderr",
     "output_type": "stream",
     "text": [
      "\r",
      "                                                                                \r"
     ]
    }
   ],
   "source": [
    "y_true.show(3)"
   ]
  },
  {
   "cell_type": "code",
   "execution_count": 54,
   "id": "caf944fa",
   "metadata": {},
   "outputs": [
    {
     "name": "stderr",
     "output_type": "stream",
     "text": [
      "[Stage 530:==================================================>    (12 + 1) / 13]\r"
     ]
    },
    {
     "name": "stdout",
     "output_type": "stream",
     "text": [
      "+--------------------+--------------------+--------------------+----------+\n",
      "|            features|       rawPrediction|         probability|prediction|\n",
      "+--------------------+--------------------+--------------------+----------+\n",
      "|[-0.0820343963013...|[60.1408126335234...|[0.99999207709016...|       0.0|\n",
      "+--------------------+--------------------+--------------------+----------+\n",
      "only showing top 1 row\n",
      "\n"
     ]
    },
    {
     "name": "stderr",
     "output_type": "stream",
     "text": [
      "\r",
      "                                                                                \r"
     ]
    }
   ],
   "source": [
    "y_pred.show(1)"
   ]
  },
  {
   "cell_type": "code",
   "execution_count": 55,
   "id": "578e2838",
   "metadata": {},
   "outputs": [
    {
     "name": "stderr",
     "output_type": "stream",
     "text": [
      "                                                                                \r"
     ]
    }
   ],
   "source": [
    "y_pred1 = list(y_pred.toPandas()['prediction'])"
   ]
  },
  {
   "cell_type": "code",
   "execution_count": 58,
   "id": "b7b1b79f",
   "metadata": {},
   "outputs": [],
   "source": [
    "y_true1 = list(y_true.toPandas()['label'])\n"
   ]
  },
  {
   "cell_type": "code",
   "execution_count": 46,
   "id": "4e289054",
   "metadata": {},
   "outputs": [
    {
     "name": "stderr",
     "output_type": "stream",
     "text": [
      "                                                                                \r"
     ]
    }
   ],
   "source": [
    "y_true1 = list(y_true.toPandas())"
   ]
  },
  {
   "cell_type": "code",
   "execution_count": 67,
   "id": "4763813a",
   "metadata": {},
   "outputs": [],
   "source": [
    "import sklearn\n",
    "import seaborn as sns"
   ]
  },
  {
   "cell_type": "code",
   "execution_count": 68,
   "id": "3424ba6c",
   "metadata": {
    "scrolled": true
   },
   "outputs": [],
   "source": [
    "# classes = [x for x in range(6)]\n",
    "# draw_cm(np.array([y_true1]), np.array([y_pred1]), classes, normalize=False)"
   ]
  },
  {
   "cell_type": "code",
   "execution_count": 69,
   "id": "be589582",
   "metadata": {},
   "outputs": [],
   "source": [
    "from sklearn.metrics import confusion_matrix\n",
    "\n",
    "temp = confusion_matrix(y_true1, y_pred1)"
   ]
  },
  {
   "cell_type": "code",
   "execution_count": 77,
   "id": "aa66fd53",
   "metadata": {},
   "outputs": [
    {
     "data": {
      "image/png": "[encoded data removed]",
      "text/plain": [
       "<Figure size 432x288 with 2 Axes>"
      ]
     },
     "metadata": {
      "needs_background": "light"
     },
     "output_type": "display_data"
    },
    {
     "name": "stderr",
     "output_type": "stream",
     "text": [
      "22/01/05 21:52:43 ERROR StandaloneSchedulerBackend: Application has been killed. Reason: Master removed our application: KILLED\n",
      "22/01/05 21:52:43 ERROR Inbox: Ignoring error\n",
      "org.apache.spark.SparkException: Exiting due to error from cluster scheduler: Master removed our application: KILLED\n",
      "\tat org.apache.spark.scheduler.TaskSchedulerImpl.error(TaskSchedulerImpl.scala:919)\n",
      "\tat org.apache.spark.scheduler.cluster.StandaloneSchedulerBackend.dead(StandaloneSchedulerBackend.scala:154)\n",
      "\tat org.apache.spark.deploy.client.StandaloneAppClient$ClientEndpoint.markDead(StandaloneAppClient.scala:262)\n",
      "\tat org.apache.spark.deploy.client.StandaloneAppClient$ClientEndpoint$$anonfun$receive$1.applyOrElse(StandaloneAppClient.scala:169)\n",
      "\tat org.apache.spark.rpc.netty.Inbox.$anonfun$process$1(Inbox.scala:115)\n",
      "\tat org.apache.spark.rpc.netty.Inbox.safelyCall(Inbox.scala:213)\n",
      "\tat org.apache.spark.rpc.netty.Inbox.process(Inbox.scala:100)\n",
      "\tat org.apache.spark.rpc.netty.MessageLoop.org$apache$spark$rpc$netty$MessageLoop$$receiveLoop(MessageLoop.scala:75)\n",
      "\tat org.apache.spark.rpc.netty.MessageLoop$$anon$1.run(MessageLoop.scala:41)\n",
      "\tat java.base/java.util.concurrent.ThreadPoolExecutor.runWorker(ThreadPoolExecutor.java:1128)\n",
      "\tat java.base/java.util.concurrent.ThreadPoolExecutor$Worker.run(ThreadPoolExecutor.java:628)\n",
      "\tat java.base/java.lang.Thread.run(Thread.java:829)\n",
      "22/01/05 21:52:43 ERROR TaskSchedulerImpl: Lost executor 1 on 25.70.124.61: Remote RPC client disassociated. Likely due to containers exceeding thresholds, or network issues. Check driver logs for WARN messages.\n"
     ]
    }
   ],
   "source": [
    "classes = ['Thời sự', 'Kinh Doanh', 'Thế giới', 'Đời sống', 'Giáo dục']\n",
    "plot_confusion_matrix(temp, classes, normalize=True, title='Confusion Matrix', cmap=plt.cm.Reds)"
   ]
  },
  {
   "cell_type": "code",
   "execution_count": 76,
   "id": "2fbc5ba5",
   "metadata": {},
   "outputs": [
    {
     "name": "stderr",
     "output_type": "stream",
     "text": [
      "                                                                                \r"
     ]
    },
    {
     "data": {
      "text/plain": [
       "[Row(label='Du lịch', label_index=5.0),\n",
       " Row(label='Thời sự', label_index=0.0),\n",
       " Row(label='Kinh Doanh', label_index=1.0),\n",
       " Row(label='Đời sống', label_index=3.0),\n",
       " Row(label='Thế giới', label_index=2.0),\n",
       " Row(label='Giáo dục', label_index=4.0)]"
      ]
     },
     "execution_count": 76,
     "metadata": {},
     "output_type": "execute_result"
    }
   ],
   "source": [
    "DF = pipe_data.select('label', 'label_index').distinct().collect()"
   ]
  },
  {
   "cell_type": "code",
   "execution_count": null,
   "id": "cf752c36",
   "metadata": {},
   "outputs": [],
   "source": []
  }
 ],
 "metadata": {
  "kernelspec": {
   "display_name": "Python 3 (ipykernel)",
   "language": "python",
   "name": "python3"
  },
  "language_info": {
   "codemirror_mode": {
    "name": "ipython",
    "version": 3
   },
   "file_extension": ".py",
   "mimetype": "text/x-python",
   "name": "python",
   "nbconvert_exporter": "python",
   "pygments_lexer": "ipython3",
   "version": "3.9.7"
  }
 },
 "nbformat": 4,
 "nbformat_minor": 5
}
