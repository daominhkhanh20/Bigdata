{
 "cells": [
  {
   "cell_type": "code",
   "execution_count": 1,
   "id": "6d0b0993",
   "metadata": {},
   "outputs": [],
   "source": [
    "from pyspark.sql import SparkSession"
   ]
  },
  {
   "cell_type": "code",
   "execution_count": 2,
   "id": "af791dd3",
   "metadata": {
    "scrolled": true
   },
   "outputs": [
    {
     "name": "stderr",
     "output_type": "stream",
     "text": [
      "WARNING: An illegal reflective access operation has occurred\n",
      "WARNING: Illegal reflective access by org.apache.spark.unsafe.Platform (file:/home/hadoop/anaconda3/lib/python3.9/site-packages/pyspark/jars/spark-unsafe_2.12-3.2.0.jar) to constructor java.nio.DirectByteBuffer(long,int)\n",
      "WARNING: Please consider reporting this to the maintainers of org.apache.spark.unsafe.Platform\n",
      "WARNING: Use --illegal-access=warn to enable warnings of further illegal reflective access operations\n",
      "WARNING: All illegal access operations will be denied in a future release\n",
      "Using Spark's default log4j profile: org/apache/spark/log4j-defaults.properties\n",
      "Setting default log level to \"WARN\".\n",
      "To adjust logging level use sc.setLogLevel(newLevel). For SparkR, use setLogLevel(newLevel).\n",
      "22/01/03 17:00:50 WARN NativeCodeLoader: Unable to load native-hadoop library for your platform... using builtin-java classes where applicable\n"
     ]
    }
   ],
   "source": [
    "spark = SparkSession \\\n",
    ".builder \\\n",
    ".master(\"spark://25.39.43.23:7077\") \\\n",
    ".appName(\"Small Data\") \\\n",
    ".config(\"spark.some.config.option\", \"some-value\") \\\n",
    ".getOrCreate()"
   ]
  },
  {
   "cell_type": "code",
   "execution_count": null,
   "id": "b22f23ca",
   "metadata": {
    "scrolled": false
   },
   "outputs": [
    {
     "name": "stderr",
     "output_type": "stream",
     "text": [
      "22/01/03 17:02:13 WARN TaskSetManager: Lost task 0.0 in stage 0.0 (TID 0) (25.39.43.23 executor 2): org.apache.hadoop.hdfs.BlockMissingException: Could not obtain block: BP-1978874256-25.70.124.61-1641015541909:blk_1073741829_1005 file=/SmallData/data1.csv\n",
      "\tat org.apache.hadoop.hdfs.DFSInputStream.refetchLocations(DFSInputStream.java:1007)\n",
      "\tat org.apache.hadoop.hdfs.DFSInputStream.chooseDataNode(DFSInputStream.java:990)\n",
      "\tat org.apache.hadoop.hdfs.DFSInputStream.chooseDataNode(DFSInputStream.java:969)\n",
      "\tat org.apache.hadoop.hdfs.DFSInputStream.blockSeekTo(DFSInputStream.java:677)\n",
      "\tat org.apache.hadoop.hdfs.DFSInputStream.readWithStrategy(DFSInputStream.java:884)\n",
      "\tat org.apache.hadoop.hdfs.DFSInputStream.read(DFSInputStream.java:957)\n",
      "\tat java.base/java.io.DataInputStream.read(DataInputStream.java:149)\n",
      "\tat org.apache.hadoop.mapreduce.lib.input.UncompressedSplitLineReader.fillBuffer(UncompressedSplitLineReader.java:62)\n",
      "\tat org.apache.hadoop.util.LineReader.readDefaultLine(LineReader.java:227)\n",
      "\tat org.apache.hadoop.util.LineReader.readLine(LineReader.java:185)\n",
      "\tat org.apache.hadoop.mapreduce.lib.input.UncompressedSplitLineReader.readLine(UncompressedSplitLineReader.java:94)\n",
      "\tat org.apache.hadoop.mapreduce.lib.input.LineRecordReader.skipUtfByteOrderMark(LineRecordReader.java:158)\n",
      "\tat org.apache.hadoop.mapreduce.lib.input.LineRecordReader.nextKeyValue(LineRecordReader.java:198)\n",
      "\tat org.apache.spark.sql.execution.datasources.RecordReaderIterator.hasNext(RecordReaderIterator.scala:39)\n",
      "\tat org.apache.spark.sql.execution.datasources.HadoopFileLinesReader.hasNext(HadoopFileLinesReader.scala:69)\n",
      "\tat scala.collection.Iterator$$anon$10.hasNext(Iterator.scala:460)\n",
      "\tat scala.collection.Iterator$$anon$10.hasNext(Iterator.scala:460)\n",
      "\tat org.apache.spark.sql.execution.datasources.FileScanRDD$$anon$1.hasNext(FileScanRDD.scala:93)\n",
      "\tat org.apache.spark.sql.execution.datasources.FileScanRDD$$anon$1.nextIterator(FileScanRDD.scala:168)\n",
      "\tat org.apache.spark.sql.execution.datasources.FileScanRDD$$anon$1.hasNext(FileScanRDD.scala:93)\n",
      "\tat scala.collection.Iterator$$anon$10.hasNext(Iterator.scala:460)\n",
      "\tat org.apache.spark.sql.catalyst.expressions.GeneratedClass$GeneratedIteratorForCodegenStage1.processNext(Unknown Source)\n",
      "\tat org.apache.spark.sql.execution.BufferedRowIterator.hasNext(BufferedRowIterator.java:43)\n",
      "\tat org.apache.spark.sql.execution.WholeStageCodegenExec$$anon$1.hasNext(WholeStageCodegenExec.scala:759)\n",
      "\tat org.apache.spark.sql.execution.SparkPlan.$anonfun$getByteArrayRdd$1(SparkPlan.scala:349)\n",
      "\tat org.apache.spark.rdd.RDD.$anonfun$mapPartitionsInternal$2(RDD.scala:898)\n",
      "\tat org.apache.spark.rdd.RDD.$anonfun$mapPartitionsInternal$2$adapted(RDD.scala:898)\n",
      "\tat org.apache.spark.rdd.MapPartitionsRDD.compute(MapPartitionsRDD.scala:52)\n",
      "\tat org.apache.spark.rdd.RDD.computeOrReadCheckpoint(RDD.scala:373)\n",
      "\tat org.apache.spark.rdd.RDD.iterator(RDD.scala:337)\n",
      "\tat org.apache.spark.scheduler.ResultTask.runTask(ResultTask.scala:90)\n",
      "\tat org.apache.spark.scheduler.Task.run(Task.scala:131)\n",
      "\tat org.apache.spark.executor.Executor$TaskRunner.$anonfun$run$3(Executor.scala:506)\n",
      "\tat org.apache.spark.util.Utils$.tryWithSafeFinally(Utils.scala:1462)\n",
      "\tat org.apache.spark.executor.Executor$TaskRunner.run(Executor.scala:509)\n",
      "\tat java.base/java.util.concurrent.ThreadPoolExecutor.runWorker(ThreadPoolExecutor.java:1128)\n",
      "\tat java.base/java.util.concurrent.ThreadPoolExecutor$Worker.run(ThreadPoolExecutor.java:628)\n",
      "\tat java.base/java.lang.Thread.run(Thread.java:829)\n",
      "\n",
      "[Stage 1:===================================>                      (8 + 5) / 13]\r"
     ]
    }
   ],
   "source": [
    "df = spark.read.csv(\"hdfs://dmk:9000/SmallData/data1.csv\", header=True, inferSchema=True)\n",
    "df.show()"
   ]
  },
  {
   "cell_type": "code",
   "execution_count": 4,
   "id": "9d364b91",
   "metadata": {},
   "outputs": [
    {
     "name": "stderr",
     "output_type": "stream",
     "text": [
      "[Stage 5:>                                                          (0 + 1) / 1]\r"
     ]
    },
    {
     "name": "stdout",
     "output_type": "stream",
     "text": [
      "+--------------------+--------+----------+---------+--------------------+--------------------+\n",
      "|                date|   label|page_index|sub_label|                text|                 url|\n",
      "+--------------------+--------+----------+---------+--------------------+--------------------+\n",
      "|13/12/2021 21:11:...|    null|      null|     null|                null|                null|\n",
      "|                   \"|Giáo dục|         1|     null|\"Năm 2002, anh Lê...|Thầy Long cũng kh...|\n",
      "|13/12/2021 21:40:...|    null|      null|     null|                null|                null|\n",
      "|                   \"|Giáo dục|         1|     null|Với mỗi bài thi, ...|https://vietnamne...|\n",
      "|13/12/2021 21:58:...|    null|      null|     null|                null|                null|\n",
      "|                   \"|Giáo dục|         1|     null|UBND TP.Hà Nội mớ...|https://vietnamne...|\n",
      "|13/12/2021 21:11:...|    null|      null|     null|                null|                null|\n",
      "|                   \"|Giáo dục|         1|     null|\"Ngày 10/12, Tổng...| nhân lực của chú...|\n",
      "|13/12/2021 21:11:...|    null|      null|     null|                null|                null|\n",
      "|                   \"|Giáo dục|         1|     null|Kỳ thi Kỹ năng ng...|https://vietnamne...|\n",
      "|13/12/2021 20:55:...|    null|      null|     null|                null|                null|\n",
      "|                   \"|Giáo dục|         1|     null|\"Bà Kuttiyamma hi...|Bà Kuttiyamma hiệ...|\n",
      "|13/12/2021 22:20:...|    null|      null|     null|                null|                null|\n",
      "|                   \"|Giáo dục|         1|     null|Nói về Kỳ thi Kỹ ...|https://vietnamne...|\n",
      "|13/12/2021 21:41:...|    null|      null|     null|                null|                null|\n",
      "|                   \"|Giáo dục|         1|     null|DAV’s Leaders là ...|https://vietnamne...|\n",
      "|13/12/2021 21:06:...|    null|      null|     null|                null|                null|\n",
      "|                   \"|Giáo dục|         1| Khoa học|TS Nguyễn Trọng H...|https://vietnamne...|\n",
      "|13/12/2021 21:04:...|    null|      null|     null|                null|                null|\n",
      "|                   \"|Giáo dục|         1|     null|Dự án “Robot điều...|https://vietnamne...|\n",
      "+--------------------+--------+----------+---------+--------------------+--------------------+\n",
      "only showing top 20 rows\n",
      "\n"
     ]
    },
    {
     "name": "stderr",
     "output_type": "stream",
     "text": [
      "\r",
      "                                                                                \r"
     ]
    }
   ],
   "source": [
    "df2 = spark.read.csv(\"hdfs://dmk:9000/SmallData/data2.csv\", header=True, inferSchema=True)\n",
    "df2.show()"
   ]
  },
  {
   "cell_type": "code",
   "execution_count": 5,
   "id": "846aaa8e",
   "metadata": {},
   "outputs": [
    {
     "name": "stderr",
     "output_type": "stream",
     "text": [
      "[Stage 7:>                                                          (0 + 1) / 1]\r"
     ]
    },
    {
     "name": "stdout",
     "output_type": "stream",
     "text": [
      "+---------------+--------------------+---------+----------+---------------+--------------------+--------------------+\n",
      "|_corrupt_record|                date|    label|page_index|      sub_label|                text|                 url|\n",
      "+---------------+--------------------+---------+----------+---------------+--------------------+--------------------+\n",
      "|              [|                null|     null|      null|           null|                null|                null|\n",
      "|           null|13/12/2021 22:51:...|Pháp luật|         1|           null|[Ngày 11/12, phiê...|https://vietnamne...|\n",
      "|           null|13/12/2021 22:19:...|Pháp luật|         1|           null|[Viện kiểm sát nh...|https://vietnamne...|\n",
      "|           null|13/12/2021 22:16:...|Pháp luật|         1|    Hồ sơ vụ án|[Trước đó, ngày 9...|https://vietnamne...|\n",
      "|           null|13/12/2021 22:30:...|Pháp luật|         1|           null|[Như vậy, cộng vớ...|https://vietnamne...|\n",
      "|           null|13/12/2021 22:25:...|Pháp luật|         1|           null|[Tranh luận với đ...|https://vietnamne...|\n",
      "|           null|13/12/2021 22:12:...|Pháp luật|         1|           null|[Được quyền nói l...|https://vietnamne...|\n",
      "|           null|13/12/2021 22:20:...|Pháp luật|         1|           null|[Sáng 12/12, Bộ C...|https://vietnamne...|\n",
      "|           null|13/12/2021 22:49:...|Pháp luật|         1|    Hồ sơ vụ án|[Theo hồ sơ vụ án...|https://vietnamne...|\n",
      "|           null|13/12/2021 22:45:...|Pháp luật|         1|    Hồ sơ vụ án|[Được biết, cả ba...|https://vietnamne...|\n",
      "|           null|13/12/2021 22:33:...|Pháp luật|         1|Ký sự pháp đình|[Hôm nay (10/12),...|https://vietnamne...|\n",
      "|           null|13/12/2021 22:33:...|Pháp luật|         1|           null|[Sáng nay (10/12)...|https://vietnamne...|\n",
      "|           null|13/12/2021 22:41:...|Công nghệ|         1|           null|[Trong bối cảnh c...|https://vietnamne...|\n",
      "|           null|13/12/2021 22:09:...|Pháp luật|         1|           null|                  []|https://vietnamne...|\n",
      "|           null|13/12/2021 22:52:...|Pháp luật|         1|           null|[Sáng nay (11/12)...|https://vietnamne...|\n",
      "|           null|13/12/2021 22:26:...|Công nghệ|         1|           null|[\"oneSME: Đăng ký...|https://vietnamne...|\n",
      "|           null|13/12/2021 22:41:...|Công nghệ|         1|           null|[Nhóm giải pháp C...|https://vietnamne...|\n",
      "|           null|13/12/2021 22:41:...|Công nghệ|         1|           null|[Lễ công bố, trao...|https://vietnamne...|\n",
      "|           null|13/12/2021 22:28:...|Công nghệ|         1|       Ứng dụng|[Trong bài viết “...|https://vietnamne...|\n",
      "|           null|13/12/2021 22:02:...|Công nghệ|         1|           null|[Theo dự đoán của...|https://vietnamne...|\n",
      "+---------------+--------------------+---------+----------+---------------+--------------------+--------------------+\n",
      "only showing top 20 rows\n",
      "\n"
     ]
    },
    {
     "name": "stderr",
     "output_type": "stream",
     "text": [
      "\r",
      "                                                                                \r"
     ]
    }
   ],
   "source": [
    "df3 = spark.read.json(\"hdfs://dmk:9000/SmallData/data3.json\")\n",
    "df3.show()"
   ]
  },
  {
   "cell_type": "code",
   "execution_count": 6,
   "id": "5735cb61",
   "metadata": {},
   "outputs": [
    {
     "name": "stderr",
     "output_type": "stream",
     "text": [
      "                                                                                \r"
     ]
    },
    {
     "name": "stdout",
     "output_type": "stream",
     "text": [
      "+---------------+--------------------+------------+----------+----------+--------------------+--------------------+\n",
      "|_corrupt_record|                date|       label|page_index| sub_label|                text|                 url|\n",
      "+---------------+--------------------+------------+----------+----------+--------------------+--------------------+\n",
      "|              [|                null|        null|      null|      null|                null|                null|\n",
      "|           null|13/12/2021 22:24:...|    Sức khỏe|         1|      null|[Công văn được g...|https://vietnamne...|\n",
      "|           null|13/12/2021 22:39:...|    Sức khỏe|         1|      null|[Chiều ngày 12/12...|https://vietnamne...|\n",
      "|           null|13/12/2021 21:54:...|    Sức khỏe|         1|      null|[Bộ Y tế vừa có v...|https://vietnamne...|\n",
      "|           null|13/12/2021 22:14:...|    Sức khỏe|         1|      null|[Các bệnh nhân ...|https://vietnamne...|\n",
      "|           null|13/12/2021 21:53:...|    Sức khỏe|         1|      null|[Bộ Y tế ban hành...|https://vietnamne...|\n",
      "|           null|13/12/2021 22:37:...|    Sức khỏe|         1|      null|[Theo WHO tại Việ...|https://vietnamne...|\n",
      "|           null|13/12/2021 21:56:...|    Sức khỏe|         1|      null|[Bệnh nhân nữ 25 ...|https://vietnamne...|\n",
      "|           null|13/12/2021 22:46:...|    Sức khỏe|         1|      null|[Các chuyên gia c...|https://vietnamne...|\n",
      "|           null|13/12/2021 22:03:...|    Sức khỏe|         1|      null|[Khi mới được phá...|https://vietnamne...|\n",
      "|           null|13/12/2021 22:08:...|    Sức khỏe|         1|      null|[Trung tâm Kiểm s...|https://vietnamne...|\n",
      "|           null|13/12/2021 22:25:...|    Sức khỏe|         1|      null|[WHO cho biết, vẫ...|https://vietnamne...|\n",
      "|           null|13/12/2021 22:45:...|    Sức khỏe|         1|      null|[Bác sĩ CKII. Đỗ ...|https://vietnamne...|\n",
      "|           null|13/12/2021 22:07:...|    Sức khỏe|         1|      null|[Tại Hội nghị kho...|https://vietnamne...|\n",
      "|           null|13/12/2021 22:48:...|    Sức khỏe|         1|      null|[Trước đó, như bá...|https://vietnamne...|\n",
      "|           null|13/12/2021 22:04:...|    Sức khỏe|         1|      null|[Chocolate thường...|https://vietnamne...|\n",
      "|           null|13/12/2021 21:54:...|Bất động sản|         1|   Nhà đẹp|[Căn hộ rộng 92m2...|https://vietnamne...|\n",
      "|           null|13/12/2021 22:48:...|Bất động sản|         1|      null|[Được xem là biểu...|https://vietnamne...|\n",
      "|           null|13/12/2021 22:22:...|Bất động sản|         1|Thị trường|[Tổ chức xếp hạng...|https://vietnamne...|\n",
      "|           null|13/12/2021 22:15:...|Bất động sản|         1|Thị trường|[Tháng 6 vừa qua,...|https://vietnamne...|\n",
      "+---------------+--------------------+------------+----------+----------+--------------------+--------------------+\n",
      "only showing top 20 rows\n",
      "\n"
     ]
    },
    {
     "name": "stderr",
     "output_type": "stream",
     "text": [
      "\r",
      "[Stage 9:>                                                          (0 + 1) / 1]\r",
      "\r",
      "                                                                                \r"
     ]
    }
   ],
   "source": [
    "df4 = spark.read.json(\"hdfs://dmk:9000/SmallData/data4.json\")\n",
    "df4.show()"
   ]
  },
  {
   "cell_type": "code",
   "execution_count": 7,
   "id": "cc1bbc6e",
   "metadata": {},
   "outputs": [],
   "source": [
    "df3 = df3.drop('_corrupt_record')\n",
    "df4 = df4.drop('_corrupt_record')"
   ]
  },
  {
   "cell_type": "code",
   "execution_count": 8,
   "id": "2f4c8af1",
   "metadata": {},
   "outputs": [],
   "source": [
    "tmp1 = df.union(df2)\n",
    "tmp2 = df3.union(df4)"
   ]
  },
  {
   "cell_type": "code",
   "execution_count": 9,
   "id": "c52e5a9b",
   "metadata": {},
   "outputs": [
    {
     "name": "stdout",
     "output_type": "stream",
     "text": [
      "root\n",
      " |-- date: string (nullable = true)\n",
      " |-- label: string (nullable = true)\n",
      " |-- page_index: long (nullable = true)\n",
      " |-- sub_label: string (nullable = true)\n",
      " |-- text: string (nullable = false)\n",
      " |-- url: string (nullable = true)\n",
      "\n"
     ]
    }
   ],
   "source": [
    "from pyspark.sql.functions import col, concat_ws\n",
    "tmp3 = tmp2.withColumn('text', concat_ws(',', col('text')))\n",
    "tmp3.printSchema()"
   ]
  },
  {
   "cell_type": "code",
   "execution_count": 10,
   "id": "2e91a926",
   "metadata": {},
   "outputs": [
    {
     "name": "stdout",
     "output_type": "stream",
     "text": [
      "root\n",
      " |-- date: string (nullable = true)\n",
      " |-- label: string (nullable = true)\n",
      " |-- page_index: long (nullable = true)\n",
      " |-- sub_label: string (nullable = true)\n",
      " |-- text: string (nullable = true)\n",
      " |-- url: string (nullable = true)\n",
      "\n"
     ]
    }
   ],
   "source": [
    "data = tmp1.union(tmp3)\n",
    "data.printSchema()"
   ]
  },
  {
   "cell_type": "code",
   "execution_count": 11,
   "id": "1645493f",
   "metadata": {},
   "outputs": [
    {
     "name": "stderr",
     "output_type": "stream",
     "text": [
      "\r",
      "[Stage 10:>                                                         (0 + 1) / 1]\r"
     ]
    },
    {
     "name": "stdout",
     "output_type": "stream",
     "text": [
      "+--------------------+-------+----------+---------+--------------------+--------------------+\n",
      "|                date|  label|page_index|sub_label|                text|                 url|\n",
      "+--------------------+-------+----------+---------+--------------------+--------------------+\n",
      "|13/12/2021 22:04:...|   null|      null|     null|                null|                null|\n",
      "|                   \"|Thời sự|         1|     null|\"Ngày 13/12, Thàn...|            Trong đó|\n",
      "|                null|   null|         1|     null|Sáng 13/12 theo g...|https://vietnamne...|\n",
      "|13/12/2021 21:57:...|   null|      null|     null|                null|                null|\n",
      "|                   \"|Thời sự|         1|     null|Ngày 13/12, UBND ...|https://vietnamne...|\n",
      "+--------------------+-------+----------+---------+--------------------+--------------------+\n",
      "only showing top 5 rows\n",
      "\n"
     ]
    },
    {
     "name": "stderr",
     "output_type": "stream",
     "text": [
      "\r",
      "                                                                                \r"
     ]
    }
   ],
   "source": [
    "data.show(5)"
   ]
  },
  {
   "cell_type": "code",
   "execution_count": 12,
   "id": "3f1b3ec1",
   "metadata": {},
   "outputs": [],
   "source": [
    "test = data\n",
    "test = test.na.drop()"
   ]
  },
  {
   "cell_type": "code",
   "execution_count": 13,
   "id": "cdc4187a",
   "metadata": {
    "scrolled": true
   },
   "outputs": [
    {
     "name": "stderr",
     "output_type": "stream",
     "text": [
      "[Stage 13:>                                                         (0 + 1) / 1]\r"
     ]
    },
    {
     "name": "stdout",
     "output_type": "stream",
     "text": [
      "+-------+--------------------+--------+-----------------+--------------------+--------------------+-----------------+\n",
      "|summary|                date|   label|       page_index|           sub_label|                text|              url|\n",
      "+-------+--------------------+--------+-----------------+--------------------+--------------------+-----------------+\n",
      "|  count|              110740|  110740|           110740|              110740|              110740|           110740|\n",
      "|   mean|                null|    null|618.2430828968755|                null|                 3.5|338.6666666666667|\n",
      "| stddev|                null|    null|401.9309249034142|                null|  3.5355339059327378|765.0073479544118|\n",
      "|    min|                   \"| Bạn đọc|                1|125 năm ngày sinh...|                    |                 |\n",
      "|    25%|                null|    null|              288|                null|                 1.0|              3.0|\n",
      "|    50%|                null|    null|              557|                null|                 1.0|              5.0|\n",
      "|    75%|                null|    null|              903|                null|                 6.0|             10.0|\n",
      "|    max|14/12/2021 02:08:...|Đời sống|             1500|            Ứng dụng| ",
      "“Ồ, đây là vợ ha...|      …. Đặc biệt|\n",
      "+-------+--------------------+--------+-----------------+--------------------+--------------------+-----------------+\n",
      "\n"
     ]
    },
    {
     "name": "stderr",
     "output_type": "stream",
     "text": [
      "\r",
      "                                                                                \r"
     ]
    }
   ],
   "source": [
    "test.summary().show()"
   ]
  },
  {
   "cell_type": "code",
   "execution_count": 14,
   "id": "5d83a7aa",
   "metadata": {
    "scrolled": false
   },
   "outputs": [
    {
     "name": "stdout",
     "output_type": "stream",
     "text": [
      "+---------------+--------+----------+--------------------+--------------------+--------------------+\n",
      "|           date|   label|page_index|           sub_label|                text|                 url|\n",
      "+---------------+--------+----------+--------------------+--------------------+--------------------+\n",
      "|              \"| Thời sự|         1|          Môi trường|Ngày 22/7/2021, B...|https://vietnamne...|\n",
      "|              \"| Thời sự|         1|  An toàn giao thông|Sáng nay 12/12, t...|https://vietnamne...|\n",
      "|              \"| Thời sự|         1|  An toàn giao thông|Chủ tịch UBND h...|https://vietnamne...|\n",
      "|              \"| Thời sự|         1|  An toàn giao thông|\"Ngày 13/12, Phó ...| bia - không lái ...|\n",
      "|              \"|Giải trí|         1|        Thế giới sao|\"Sau khi chia tay...| hay ít nhất mình...|\n",
      "|              \"|Giải trí|         1|          Thời trang|Ca sĩ , tên thật ...|https://vietnamne...|\n",
      "|              \"|Giải trí|         1|          Thời trang|\" diễn ra sáng 13...| ngay từ đầu họ đ...|\n",
      "|              \"|Giải trí|         1|         Truyền hình|\"Mới đây diễn viê...|         Trong video|\n",
      "|              \"|Giải trí|         1|        Thế giới sao|                    |https://vietnamne...|\n",
      "|              \"|Giải trí|         1|        Thế giới sao|\"Sau lần trở lại ...| tôi đã chần chừ ...|\n",
      "|              \"|Giải trí|         1|        Thế giới sao|Theo ,, thông tin...|https://vietnamne...|\n",
      "|              \"|Giải trí|         1|                Phim|\", dòng họ Vũ tổ ...| em đâu dám can t...|\n",
      "|              \"|Giải trí|         1|        Thế giới sao|\"Theo ,,, vừa lên...| để giúp tôi được...|\n",
      "|              \"|Giải trí|         1|        Thế giới sao|\" sinh năm 1982, ...|                   .|\n",
      "|              \"|Giải trí|         1|          Thời trang|Harnaaz Kaur Sand...|https://vietnamne...|\n",
      "|              \"|Giải trí|         1|                Nhạc| qua đời lúc 8h45...| NSND Lê Khanh kh...|\n",
      "|              \"|Giải trí|         1|Di sản  - Mỹ thuậ...|\" của người hoạt ...|       dẹp cái xấu\"\"|\n",
      "|              \"| Thời sự|         2|           Chính trị|Đúng 15h 50 phút ...|https://vietnamne...|\n",
      "|              \"| Thời sự|         2|           Chính trị|\"Hội nghị Đối ngo...| ngành liên quan ...|\n",
      "|              \"| Thời sự|         2|           Chính trị|\"Nhận định được C...| không triển khai...|\n",
      "+---------------+--------+----------+--------------------+--------------------+--------------------+\n",
      "only showing top 20 rows\n",
      "\n"
     ]
    }
   ],
   "source": [
    "test.show()"
   ]
  },
  {
   "cell_type": "markdown",
   "id": "7870104c",
   "metadata": {},
   "source": [
    "## Upload data to ES"
   ]
  },
  {
   "cell_type": "code",
   "execution_count": 15,
   "id": "0e857538",
   "metadata": {},
   "outputs": [],
   "source": [
    "import requests, json, os\n",
    "from elasticsearch import Elasticsearch"
   ]
  },
  {
   "cell_type": "code",
   "execution_count": 16,
   "id": "c98d31e4",
   "metadata": {
    "scrolled": true
   },
   "outputs": [
    {
     "name": "stdout",
     "output_type": "stream",
     "text": [
      "b'{\\n  \"name\" : \"node-1\",\\n  \"cluster_name\" : \"small_data\",\\n  \"cluster_uuid\" : \"knRbiWHBRpCp2_8FE9dbLQ\",\\n  \"version\" : {\\n    \"number\" : \"7.16.2\",\\n    \"build_flavor\" : \"default\",\\n    \"build_type\" : \"deb\",\\n    \"build_hash\" : \"2b937c44140b6559905130a8650c64dbd0879cfb\",\\n    \"build_date\" : \"2021-12-18T19:42:46.604893745Z\",\\n    \"build_snapshot\" : false,\\n    \"lucene_version\" : \"8.10.1\",\\n    \"minimum_wire_compatibility_version\" : \"6.8.0\",\\n    \"minimum_index_compatibility_version\" : \"6.0.0-beta1\"\\n  },\\n  \"tagline\" : \"You Know, for Search\"\\n}\\n'\n"
     ]
    }
   ],
   "source": [
    "res = requests.get('http://localhost:9200')\n",
    "print(res.content)\n",
    "es = Elasticsearch([{'host':'localhost', 'port':'9200'}])"
   ]
  },
  {
   "cell_type": "code",
   "execution_count": 17,
   "id": "52c81085",
   "metadata": {
    "scrolled": true
   },
   "outputs": [
    {
     "name": "stdout",
     "output_type": "stream",
     "text": [
      "root\n",
      " |-- label: string (nullable = true)\n",
      " |-- page_index: long (nullable = true)\n",
      " |-- sub_label: string (nullable = true)\n",
      "\n"
     ]
    }
   ],
   "source": [
    "data_ES = test.drop(test.url)\n",
    "data_ES = data_ES.drop(test.text)\n",
    "data_ES = data_ES.drop(test.date)\n",
    "data_ES.printSchema()"
   ]
  },
  {
   "cell_type": "code",
   "execution_count": 18,
   "id": "d0af2c07",
   "metadata": {
    "scrolled": true
   },
   "outputs": [
    {
     "name": "stderr",
     "output_type": "stream",
     "text": [
      "                                                                                \r"
     ]
    }
   ],
   "source": [
    "data_ES = data_ES.toJSON().collect()"
   ]
  },
  {
   "cell_type": "code",
   "execution_count": 22,
   "id": "c7eee90a",
   "metadata": {},
   "outputs": [],
   "source": [
    "import tqdm\n",
    "\n",
    "index = 'small_data'\n",
    "def upload_to_ES(data):\n",
    "    i = 1\n",
    "    for item in range(len(data)):\n",
    "#         try:\n",
    "        es.index(index='small_data1', doc_type='data', id=i, body=data[item])\n",
    "        i += 1\n",
    "#         except:\n",
    "#             print('Error when uploading to ES')\n",
    "    "
   ]
  },
  {
   "cell_type": "code",
   "execution_count": 23,
   "id": "e733b092",
   "metadata": {},
   "outputs": [
    {
     "name": "stderr",
     "output_type": "stream",
     "text": [
      "/tmp/ipykernel_27746/359917851.py:8: DeprecationWarning: The 'body' parameter is deprecated for the 'index' API and will be removed in a future version. Instead use the 'document' parameter. See https://github.com/elastic/elasticsearch-py/issues/1698 for more information\n",
      "  es.index(index='small_data1', doc_type='data', id=i, body=data[item])\n",
      "/home/hadoop/anaconda3/lib/python3.9/site-packages/elasticsearch/connection/base.py:200: ElasticsearchWarning: Elasticsearch built-in security features are not enabled. Without authentication, your cluster could be accessible to anyone. See https://www.elastic.co/guide/en/elasticsearch/reference/7.16/security-minimal-setup.html to enable security.\n",
      "  warnings.warn(message, category=ElasticsearchWarning)\n",
      "/home/hadoop/anaconda3/lib/python3.9/site-packages/elasticsearch/connection/base.py:200: ElasticsearchWarning: [types removal] Specifying types in document index requests is deprecated, use the typeless endpoints instead (/{index}/_doc/{id}, /{index}/_doc, or /{index}/_create/{id}).\n",
      "  warnings.warn(message, category=ElasticsearchWarning)\n",
      "22/01/01 23:16:27 ERROR StandaloneSchedulerBackend: Application has been killed. Reason: Master removed our application: KILLED\n",
      "22/01/01 23:16:27 ERROR TaskSchedulerImpl: Lost executor 1 on 25.70.124.61: Remote RPC client disassociated. Likely due to containers exceeding thresholds, or network issues. Check driver logs for WARN messages.\n",
      "22/01/01 23:16:27 ERROR Inbox: Ignoring error\n",
      "org.apache.spark.SparkException: Exiting due to error from cluster scheduler: Master removed our application: KILLED\n",
      "\tat org.apache.spark.scheduler.TaskSchedulerImpl.error(TaskSchedulerImpl.scala:919)\n",
      "\tat org.apache.spark.scheduler.cluster.StandaloneSchedulerBackend.dead(StandaloneSchedulerBackend.scala:154)\n",
      "\tat org.apache.spark.deploy.client.StandaloneAppClient$ClientEndpoint.markDead(StandaloneAppClient.scala:262)\n",
      "\tat org.apache.spark.deploy.client.StandaloneAppClient$ClientEndpoint$$anonfun$receive$1.applyOrElse(StandaloneAppClient.scala:169)\n",
      "\tat org.apache.spark.rpc.netty.Inbox.$anonfun$process$1(Inbox.scala:115)\n",
      "\tat org.apache.spark.rpc.netty.Inbox.safelyCall(Inbox.scala:213)\n",
      "\tat org.apache.spark.rpc.netty.Inbox.process(Inbox.scala:100)\n",
      "\tat org.apache.spark.rpc.netty.MessageLoop.org$apache$spark$rpc$netty$MessageLoop$$receiveLoop(MessageLoop.scala:75)\n",
      "\tat org.apache.spark.rpc.netty.MessageLoop$$anon$1.run(MessageLoop.scala:41)\n",
      "\tat java.base/java.util.concurrent.ThreadPoolExecutor.runWorker(ThreadPoolExecutor.java:1128)\n",
      "\tat java.base/java.util.concurrent.ThreadPoolExecutor$Worker.run(ThreadPoolExecutor.java:628)\n",
      "\tat java.base/java.lang.Thread.run(Thread.java:829)\n",
      "22/01/01 23:16:28 ERROR TaskSchedulerImpl: Lost executor 0 on 25.43.118.157: Remote RPC client disassociated. Likely due to containers exceeding thresholds, or network issues. Check driver logs for WARN messages.\n"
     ]
    }
   ],
   "source": [
    "upload_to_ES(data_ES)"
   ]
  }
 ],
 "metadata": {
  "kernelspec": {
   "display_name": "Python 3 (ipykernel)",
   "language": "python",
   "name": "python3"
  },
  "language_info": {
   "codemirror_mode": {
    "name": "ipython",
    "version": 3
   },
   "file_extension": ".py",
   "mimetype": "text/x-python",
   "name": "python",
   "nbconvert_exporter": "python",
   "pygments_lexer": "ipython3",
   "version": "3.9.7"
  }
 },
 "nbformat": 4,
 "nbformat_minor": 5
}
